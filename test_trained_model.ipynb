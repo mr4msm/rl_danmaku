{
 "cells": [
  {
   "cell_type": "code",
   "execution_count": null,
   "metadata": {},
   "outputs": [],
   "source": [
    "import chainer\n",
    "import cv2\n",
    "import numpy as np\n",
    "import os\n",
    "import seaborn as sns\n",
    "from chainer import serializers as S\n",
    "from datetime import datetime as dt\n",
    "from ipywidgets import interact, IntSlider\n",
    "from matplotlib import pyplot as plt\n",
    "%matplotlib inline\n",
    "\n",
    "from danmaku_env import DanmakuEnv\n",
    "from model import Model"
   ]
  },
  {
   "cell_type": "code",
   "execution_count": null,
   "metadata": {},
   "outputs": [],
   "source": [
    "chainer.global_config.train = False\n",
    "chainer.global_config.enable_backprop = False\n",
    "\n",
    "env = DanmakuEnv(0)\n",
    "obs_space = env.observation_space\n",
    "action_space = env.action_space\n",
    "\n",
    "model = Model(obs_space.shape[0], action_space.n)\n",
    "S.load_npz('trained_model_example.npz', model)\n",
    "\n",
    "state = env.reset()\n",
    "collision = False\n",
    "step_count = 0\n",
    "\n",
    "images = [env.render()]\n",
    "\n",
    "MAX_STEP = 1000\n",
    "\n",
    "while (step_count < MAX_STEP) and (not collision):\n",
    "    pout, _ = model.pi_and_v(state[np.newaxis])\n",
    "    #     action = pout.sample().data[0]\n",
    "    action = pout.most_probable.data[0]\n",
    "    state, _, collision, _ = env.step(action)\n",
    "    step_count += 1\n",
    "    images.append(env.render())\n",
    "\n",
    "len(images)"
   ]
  },
  {
   "cell_type": "code",
   "execution_count": null,
   "metadata": {},
   "outputs": [],
   "source": [
    "sns.set_style('whitegrid')\n",
    "plt.rcParams['figure.figsize'] = 12, 8\n",
    "image_idx = IntSlider(0, 0, len(images) - 1, 1)\n",
    "\n",
    "\n",
    "@interact(idx=image_idx)\n",
    "def show_images(idx):\n",
    "    plt.imshow(images[idx])\n",
    "    plt.grid(False)\n",
    "    plt.title('step {0:03d}'.format(idx))"
   ]
  },
  {
   "cell_type": "code",
   "execution_count": null,
   "metadata": {},
   "outputs": [],
   "source": [
    "out_dir = 'test_result_' + dt.now().strftime('%Y%m%d%H%M%S')\n",
    "os.makedirs(out_dir)"
   ]
  },
  {
   "cell_type": "code",
   "execution_count": null,
   "metadata": {},
   "outputs": [],
   "source": [
    "for idx, image in enumerate(images):\n",
    "    cv2.imwrite(\n",
    "        os.path.join(out_dir, 'test_step_{0:06d}.png'.format(idx)),\n",
    "        image[:, :, ::-1])"
   ]
  },
  {
   "cell_type": "code",
   "execution_count": null,
   "metadata": {},
   "outputs": [],
   "source": []
  }
 ],
 "metadata": {
  "kernelspec": {
   "display_name": "Python 3",
   "language": "python",
   "name": "python3"
  },
  "language_info": {
   "codemirror_mode": {
    "name": "ipython",
    "version": 3
   },
   "file_extension": ".py",
   "mimetype": "text/x-python",
   "name": "python",
   "nbconvert_exporter": "python",
   "pygments_lexer": "ipython3",
   "version": "3.6.3"
  }
 },
 "nbformat": 4,
 "nbformat_minor": 2
}
